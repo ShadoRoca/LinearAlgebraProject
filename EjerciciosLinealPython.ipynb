{
 "cells": [
  {
   "cell_type": "code",
   "execution_count": 1,
   "metadata": {},
   "outputs": [],
   "source": [
    "import numpy as np "
   ]
  },
  {
   "cell_type": "code",
   "execution_count": 2,
   "metadata": {},
   "outputs": [],
   "source": [
    "A = np.array([[1,0,1,0],[-1,2,-1,2],[3,1,3,1],[0,-1,0,-1]])"
   ]
  },
  {
   "cell_type": "code",
   "execution_count": 3,
   "metadata": {},
   "outputs": [
    {
     "name": "stdout",
     "output_type": "stream",
     "text": [
      "[[ 47804687500  18259765625  47804687500  18259765625]\n",
      " [-84324218750 -32208984375 -84324218750 -32208984375]\n",
      " [125154296875  47804687500 125154296875  47804687500]\n",
      " [ 18259765625   6974609375  18259765625   6974609375]]\n"
     ]
    }
   ],
   "source": [
    "D = np.linalg.matrix_power(A,20)\n",
    "print(D)"
   ]
  },
  {
   "cell_type": "code",
   "execution_count": 4,
   "metadata": {},
   "outputs": [
    {
     "name": "stdout",
     "output_type": "stream",
     "text": [
      "-6.162975822039151e-33\n",
      "-37.000000000000014\n"
     ]
    }
   ],
   "source": [
    "B = np.array([[5,4],[3,-5]])\n",
    "print(np.linalg.det(A))\n",
    "print(np.linalg.det(B))\n",
    "\n",
    "# ¿Qué se observa?\n",
    "# Se puede observar que el determinante de la matriz A nos arroja un resultado erróneo al que debería salir.\n",
    "# Ya que en realidad el determinante de la matríz A debe ser igual a 0 debido a una proposición vista en el curso:\n",
    "# Si una matriz tiene dos columnas iguales entonces su determinante es 0.\n",
    "# En la matriz B podemos observar que sí nos da el mismo resultado que si lo hacemos a mano pero sólo en la parte\n",
    "# entera."
   ]
  },
  {
   "cell_type": "code",
   "execution_count": 5,
   "metadata": {},
   "outputs": [],
   "source": [
    "import sympy as sp"
   ]
  },
  {
   "cell_type": "code",
   "execution_count": 6,
   "metadata": {},
   "outputs": [],
   "source": [
    "A=sp.Matrix([[1,0,1,0],[-1,2,-1,2],[3,1,3,1],[0,-1,0,-1]])\n",
    "B=sp.Matrix([[5,4],[3,-5]])"
   ]
  },
  {
   "cell_type": "code",
   "execution_count": 7,
   "metadata": {},
   "outputs": [
    {
     "name": "stdout",
     "output_type": "stream",
     "text": [
      "0\n",
      "-37\n"
     ]
    }
   ],
   "source": [
    "print(A.det())\n",
    "print(B.det())"
   ]
  },
  {
   "cell_type": "code",
   "execution_count": 8,
   "metadata": {},
   "outputs": [
    {
     "name": "stdout",
     "output_type": "stream",
     "text": [
      "(Matrix([\n",
      "[1, 0, 1, 0],\n",
      "[0, 1, 0, 1],\n",
      "[0, 0, 0, 0],\n",
      "[0, 0, 0, 0]]), (0, 1))\n"
     ]
    }
   ],
   "source": [
    "print(A.rref())\n",
    "# Podemos observar que el rango de A es 2, debido a que su forma escalonada reducida tiene 2 renglones no nulos"
   ]
  },
  {
   "cell_type": "code",
   "execution_count": 9,
   "metadata": {},
   "outputs": [
    {
     "data": {
      "text/plain": [
       "[Matrix([\n",
       " [ 6,  6,  6, 8, -4],\n",
       " [14, -2,  6, 4,  3],\n",
       " [36,  7,  5, 5,  6],\n",
       " [40,  3, -4, 8,  2],\n",
       " [79,  8,  6, 1,  9]]),\n",
       " Matrix([\n",
       " [-2,  6,  6, 8, -4],\n",
       " [ 7, 14,  6, 4,  3],\n",
       " [-4, 36,  5, 5,  6],\n",
       " [ 5, 40, -4, 8,  2],\n",
       " [ 6, 79,  6, 1,  9]]),\n",
       " Matrix([\n",
       " [-2,  6,  6, 8, -4],\n",
       " [ 7, -2, 14, 4,  3],\n",
       " [-4,  7, 36, 5,  6],\n",
       " [ 5,  3, 40, 8,  2],\n",
       " [ 6,  8, 79, 1,  9]]),\n",
       " Matrix([\n",
       " [-2,  6,  6,  6, -4],\n",
       " [ 7, -2,  6, 14,  3],\n",
       " [-4,  7,  5, 36,  6],\n",
       " [ 5,  3, -4, 40,  2],\n",
       " [ 6,  8,  6, 79,  9]]),\n",
       " Matrix([\n",
       " [-2,  6,  6, 8,  6],\n",
       " [ 7, -2,  6, 4, 14],\n",
       " [-4,  7,  5, 5, 36],\n",
       " [ 5,  3, -4, 8, 40],\n",
       " [ 6,  8,  6, 1, 79]])]"
      ]
     },
     "execution_count": 9,
     "metadata": {},
     "output_type": "execute_result"
    }
   ],
   "source": [
    "C = sp.Matrix([[-2,6,6,8,-4],[7,-2,6,4,3],[-4,7,5,5,6],[5,3,-4,8,2],[6,8,6,1,9]])\n",
    "b = sp.Matrix([[6],[14],[36],[40],[79]]) #Vector columna\n",
    "matrices = [] #Lista para guardar las Ci\n",
    "for i in range(5):\n",
    "    temp = C.col_insert(i,b)\n",
    "    temp.col_del(i+1)\n",
    "    matrices.append(temp)\n",
    "matrices"
   ]
  },
  {
   "cell_type": "code",
   "execution_count": 10,
   "metadata": {},
   "outputs": [
    {
     "name": "stdout",
     "output_type": "stream",
     "text": [
      "Los valores de x1,...,x5 respectivamente son:  [3, 5, -1, 0, 3]\n"
     ]
    }
   ],
   "source": [
    "determinantes = []\n",
    "det_c = C.det()\n",
    "for m in matrices :\n",
    "    d = m.det()\n",
    "    determinantes.append(d)\n",
    "x = []\n",
    "for d in determinantes:\n",
    "    xi = d/det_c\n",
    "    x.append(xi)\n",
    "print(\"Los valores de x1,...,x5 respectivamente son: \", x)"
   ]
  },
  {
   "cell_type": "code",
   "execution_count": 11,
   "metadata": {},
   "outputs": [
    {
     "data": {
      "text/plain": [
       "[Matrix([\n",
       " [0, 0, 1],\n",
       " [1, 0, 1],\n",
       " [0, 1, 1]]),\n",
       " Matrix([\n",
       " [0, 1, 1],\n",
       " [0, 1, 2],\n",
       " [1, 1, 2]]),\n",
       " Matrix([\n",
       " [1, 1, 2],\n",
       " [1, 2, 3],\n",
       " [1, 2, 4]]),\n",
       " Matrix([\n",
       " [1, 2, 4],\n",
       " [2, 3, 6],\n",
       " [2, 4, 7]]),\n",
       " Matrix([\n",
       " [2, 4,  7],\n",
       " [3, 6, 11],\n",
       " [4, 7, 13]]),\n",
       " Matrix([\n",
       " [4,  7, 13],\n",
       " [6, 11, 20],\n",
       " [7, 13, 24]]),\n",
       " Matrix([\n",
       " [ 7, 13, 24],\n",
       " [11, 20, 37],\n",
       " [13, 24, 44]])]"
      ]
     },
     "execution_count": 11,
     "metadata": {},
     "output_type": "execute_result"
    }
   ],
   "source": [
    "T = sp.Matrix([[0,0,1],[1,0,1],[0,1,1]])\n",
    "pot_t = []\n",
    "for i in range(1,8):\n",
    "    ti = T**i\n",
    "    pot_t.append(ti)\n",
    "pot_t"
   ]
  },
  {
   "cell_type": "code",
   "execution_count": 12,
   "metadata": {},
   "outputs": [],
   "source": [
    "# ¿Puedes identificar a los números de la sucesión Tribonacci en las entradas estas matrices? \n",
    "# ¿Dónde? Enuncia una conjetura.\n",
    "\n",
    "# Sí se pueden observar los números de la sucesión en las matrices, se pueden observar en la primer y última\n",
    "# fila.\n",
    "\n",
    "# Al observar muy bien las matrices podemos hacer la siguiente conjetura:\n",
    "# Sea T = {0,0,1}\n",
    "#         {1,0,1}\n",
    "#         {0,1,1}  Y {T^1,T^2,T^3,T^4,T^5,...} las correspondientes potencias de T\n",
    "# Además sean {t_1,t_2,t_3,t_4,t_5,...} los números de la sucesión de Tribonacci. \n",
    "# Entonces en general podemos decir que:\n",
    "\n",
    "# T^n = {t_n           , t_n+1       , t_n+2}\n",
    "#       {t_n+2 - t_n+1 , t_n + t_n+1 , t_n+1 + t_n+2}\n",
    "#       {t_n+1         , t_n+2       , t_n+3}\n",
    "\n",
    "# Se puede comprobar con las primeras 7 potencias de T.\n",
    "\n",
    "\n",
    "# Liprandi Cortes Rodrigo\n",
    "# 317275605"
   ]
  }
 ],
 "metadata": {
  "kernelspec": {
   "display_name": "Python 3",
   "language": "python",
   "name": "python3"
  },
  "language_info": {
   "codemirror_mode": {
    "name": "ipython",
    "version": 3
   },
   "file_extension": ".py",
   "mimetype": "text/x-python",
   "name": "python",
   "nbconvert_exporter": "python",
   "pygments_lexer": "ipython3",
   "version": "3.8.3"
  }
 },
 "nbformat": 4,
 "nbformat_minor": 2
}
